{
 "cells": [
  {
   "cell_type": "markdown",
   "metadata": {},
   "source": [
    "## Warmup-1 > missing_char \n",
    "\n",
    "\n",
    "Given a non-empty string and an int n, return a new string where the char at index n has been removed. The value of n will be a valid index of a char in the original string (i.e. n will be in the range 0..len(str)-1 inclusive).\n",
    "\n",
    "\n",
    "missing_char('kitten', 1) → 'ktten'\n",
    "\n",
    "missing_char('kitten', 0) → 'itten'\n",
    "\n",
    "missing_char('kitten', 4) → 'kittn'"
   ]
  },
  {
   "cell_type": "code",
   "execution_count": null,
   "metadata": {},
   "outputs": [],
   "source": [
    "def missing_char(word,n):  #take the arguments as word and n\n",
    "  front = word[:n] # building the string upto but not including n\n",
    "  back = word[n+1:] #building the string from n+1, again not inlcluding n till the\n",
    "  #end of the string\n",
    "  return front + back\n",
    "\n",
    "\n",
    "  \n",
    "  \n",
    "  #Another way to do it\n",
    "  #Ihad also written the below code after fidgeting for some time. Less redable\n",
    "  #but returns output in single line\n",
    "  \n",
    "  #def missing_char(word,n): \n",
    "    #return (word[0:n] + (word[n+1:(len(word))])) \n",
    "      #the logic is that n should be skipped, in the first part of the string split\n",
    "  #end of the string \n",
    "\n",
    "#check\n",
    "missing_char('kitten', 1)"
   ]
  },
  {
   "cell_type": "code",
   "execution_count": null,
   "metadata": {},
   "outputs": [],
   "source": [
    "missing_char('kitten', 0)"
   ]
  },
  {
   "cell_type": "code",
   "execution_count": null,
   "metadata": {},
   "outputs": [],
   "source": [
    "missing_char('kitten', 4)"
   ]
  },
  {
   "cell_type": "markdown",
   "metadata": {},
   "source": [
    "## Warmup-1 > front_back \n",
    "\n",
    "Given a string, return a new string where the first and last chars have been exchanged.\n",
    "\n",
    "\n",
    "front_back('code') → 'eodc'\n",
    "\n",
    "front_back('a') → 'a'\n",
    "\n",
    "front_back('ab') → 'ba'\n"
   ]
  },
  {
   "cell_type": "code",
   "execution_count": null,
   "metadata": {},
   "outputs": [],
   "source": [
    "def front_back(str):\n",
    "    \n",
    "    if len(str)<=1: #check if the length of the string is less than 1, and if it is then only return that string\n",
    "        return str\n",
    "    else:\n",
    "        first_char = str[0] #slice to the first character\n",
    "        middle_part = str[1:len(str)-1] #slice out the middle part of the string\n",
    "        last_char = str[len(str)-1] #slice out the last part of the string with len(str)-1\n",
    "        \n",
    "        return last_char+middle_part+first_char #return the new concetenated string last char+middle+first char\n",
    "    \n",
    "\n",
    "    \n",
    "#Another cleaner way to do this would be"
   ]
  },
  {
   "cell_type": "code",
   "execution_count": null,
   "metadata": {},
   "outputs": [],
   "source": [
    "#Another cleaner way to do this would be \n",
    "\n",
    "def front_back(str):\n",
    "    middle_part = str[1:len(str)-1] #slice out the middle part of the string \n",
    "    \n",
    "    if len(str) <=1: \n",
    "    #check if the string lenght is less than one or equal to 1\n",
    "        return str #return the string\n",
    "    else:\n",
    "        return str[len(str)-1]+middle_part+str[0] \n",
    "    #else return the new concetenated string last char+middle+first char"
   ]
  },
  {
   "cell_type": "code",
   "execution_count": null,
   "metadata": {},
   "outputs": [],
   "source": [
    "#Check\n",
    "front_back('code')"
   ]
  },
  {
   "cell_type": "code",
   "execution_count": null,
   "metadata": {},
   "outputs": [],
   "source": [
    "#check\n",
    "front_back('a')"
   ]
  },
  {
   "cell_type": "code",
   "execution_count": null,
   "metadata": {},
   "outputs": [],
   "source": [
    "#Check\n",
    "front_back('ab')"
   ]
  },
  {
   "cell_type": "markdown",
   "metadata": {},
   "source": [
    "## Warmup-1 > front3 \n",
    "\n",
    "Given a string, we'll say that the front is the first 3 chars of the string. If the string length is less than 3, the front is whatever is there. Return a new string which is 3 copies of the front.\n",
    "\n",
    "\n",
    "front3('Java') → 'JavJavJav'\n",
    "\n",
    "front3('Chocolate') → 'ChoChoCho'\n",
    "\n",
    "front3('abc') → 'abcabcabc'"
   ]
  },
  {
   "cell_type": "code",
   "execution_count": null,
   "metadata": {},
   "outputs": [],
   "source": [
    "def front3(word): #take the string argument\n",
    "    front = word[:3] #slice the string till the first three indexes\n",
    "    return (3*front) #return three times front variable"
   ]
  },
  {
   "cell_type": "code",
   "execution_count": null,
   "metadata": {},
   "outputs": [],
   "source": [
    "#check\n",
    "front3('Java')\n",
    "\n",
    "  # Figure the end of the front"
   ]
  },
  {
   "cell_type": "code",
   "execution_count": null,
   "metadata": {},
   "outputs": [],
   "source": [
    "#check\n",
    "front3('Chocolate')"
   ]
  },
  {
   "cell_type": "code",
   "execution_count": null,
   "metadata": {},
   "outputs": [],
   "source": [
    "#check\n",
    "front3('abc')"
   ]
  },
  {
   "cell_type": "markdown",
   "metadata": {},
   "source": [
    "# Warmup-2 "
   ]
  },
  {
   "cell_type": "markdown",
   "metadata": {},
   "source": [
    "## Warmup-2 > string_times \n",
    "\n",
    "Given a string and a non-negative int n, return a larger string that is n copies of the original string.\n",
    "\n",
    "\n",
    "string_times('Hi', 2) → 'HiHi'\n",
    "\n",
    "string_times('Hi', 3) → 'HiHiHi'\n",
    "\n",
    "string_times('Hi', 1) → 'Hi'"
   ]
  },
  {
   "cell_type": "code",
   "execution_count": null,
   "metadata": {},
   "outputs": [],
   "source": [
    "#One way to do it\n",
    "def string_times(word,n): #take the arguments\n",
    "    return word * n #return the product of the int argument and the word"
   ]
  },
  {
   "cell_type": "code",
   "execution_count": null,
   "metadata": {},
   "outputs": [],
   "source": [
    "#Another way to do it\n",
    "\n",
    "def string_times(word,n): #take the word and int argument\n",
    "    result = '' #define an empty string result\n",
    "    for i in range(n): #iterate for the no of time of n, meaning in the range of n, starting with i = 0 and ending i = n\n",
    "        result = result + word #add the word to the result and reassign it\n",
    "    return result"
   ]
  },
  {
   "cell_type": "code",
   "execution_count": null,
   "metadata": {},
   "outputs": [],
   "source": [
    "#check\n",
    "string_times('Hi', 2)"
   ]
  },
  {
   "cell_type": "code",
   "execution_count": null,
   "metadata": {},
   "outputs": [],
   "source": [
    "#check\n",
    "string_times('Hi', 3)"
   ]
  },
  {
   "cell_type": "code",
   "execution_count": null,
   "metadata": {},
   "outputs": [],
   "source": [
    "#check\n",
    "string_times('Hi', 1)"
   ]
  },
  {
   "cell_type": "markdown",
   "metadata": {},
   "source": [
    "## Warmup-2 > front_times \n",
    "\n",
    "Given a string and a non-negative int n, we'll say that the front of the string is the first 3 chars, or whatever is there if the string is less than length 3. Return n copies of the front;\n",
    "\n",
    "\n",
    "front_times('Chocolate', 2) → 'ChoCho'\n",
    "\n",
    "front_times('Chocolate', 3) → 'ChoChoCho'\n",
    "\n",
    "front_times('Abc', 3) → 'AbcAbcAbc'"
   ]
  },
  {
   "cell_type": "code",
   "execution_count": null,
   "metadata": {},
   "outputs": [],
   "source": [
    "#One way to do it\n",
    "\n",
    "def front_times(word,n): #take the input as the word and the int\n",
    "    if len(word)<3: #check if the lenght of the string is less than 3\n",
    "        return word*n # if it is then just multiply string * n\n",
    "    else:\n",
    "        front = word[:3] #else return the product of the slice of the first three characters and n \n",
    "        return front * n"
   ]
  },
  {
   "cell_type": "code",
   "execution_count": null,
   "metadata": {},
   "outputs": [],
   "source": [
    "front_times('Chocolate', 2)"
   ]
  },
  {
   "cell_type": "code",
   "execution_count": null,
   "metadata": {},
   "outputs": [],
   "source": [
    "front_times('Chocolate', 3)"
   ]
  },
  {
   "cell_type": "code",
   "execution_count": null,
   "metadata": {},
   "outputs": [],
   "source": [
    "front_times('Abc', 3)"
   ]
  },
  {
   "cell_type": "code",
   "execution_count": null,
   "metadata": {},
   "outputs": [],
   "source": [
    "front_times('Ab', 3)"
   ]
  },
  {
   "cell_type": "markdown",
   "metadata": {},
   "source": [
    "## Warmup-2 > string_bits \n",
    "\n",
    "Given a string, return a new string made of every other char starting with the first, so \"Hello\" yields \"Hlo\".\n",
    "\n",
    "\n",
    "string_bits('Hello') → 'Hlo'\n",
    "\n",
    "string_bits('Hi') → 'H'\n",
    "\n",
    "string_bits('Heeololeo') → 'Hello'"
   ]
  },
  {
   "cell_type": "code",
   "execution_count": 12,
   "metadata": {},
   "outputs": [
    {
     "name": "stdout",
     "output_type": "stream",
     "text": [
      "Hello\n"
     ]
    }
   ],
   "source": [
    "#This is using for loop and iterating through each index letter\n",
    "\n",
    "def string_bits(str):\n",
    "    new_str =\"\"\n",
    "    for i in range(len(str)): # for loop to run through every index of in the range of the length of the string\n",
    "        if i%2 == 0: #check if the index is even, requirement is to return every other letter meaning starting from 0 index, return the letter at the next index which is 2, so even indexed letters need to be returned \n",
    "            new_str = new_str+str[i]\n",
    "    return new_str\n",
    "\n",
    "print(string_bits('Heeololeo'))"
   ]
  },
  {
   "cell_type": "code",
   "execution_count": 14,
   "metadata": {},
   "outputs": [
    {
     "name": "stdout",
     "output_type": "stream",
     "text": [
      "Hello\n"
     ]
    }
   ],
   "source": [
    "##can be also be written enumerate func:\n",
    "\n",
    "def string_bits(str):\n",
    "    new_str=''\n",
    "    for i,letter in enumerate(str):\n",
    "        if i%2 == 0:\n",
    "            new_str+=str[i]\n",
    "    return new_str\n",
    "\n",
    "print(string_bits('Heeololeo'))"
   ]
  },
  {
   "cell_type": "code",
   "execution_count": 27,
   "metadata": {
    "scrolled": false
   },
   "outputs": [
    {
     "data": {
      "text/plain": [
       "'Hlo'"
      ]
     },
     "execution_count": 27,
     "metadata": {},
     "output_type": "execute_result"
    }
   ],
   "source": [
    "string_bits('Hello')"
   ]
  },
  {
   "cell_type": "code",
   "execution_count": 28,
   "metadata": {},
   "outputs": [
    {
     "data": {
      "text/plain": [
       "'H'"
      ]
     },
     "execution_count": 28,
     "metadata": {},
     "output_type": "execute_result"
    }
   ],
   "source": [
    "string_bits('Hi')"
   ]
  },
  {
   "cell_type": "code",
   "execution_count": 29,
   "metadata": {},
   "outputs": [
    {
     "data": {
      "text/plain": [
       "'Hello'"
      ]
     },
     "execution_count": 29,
     "metadata": {},
     "output_type": "execute_result"
    }
   ],
   "source": [
    "string_bits('Heeololeo')"
   ]
  },
  {
   "cell_type": "markdown",
   "metadata": {},
   "source": [
    "## Warmup-2 > string_splosion \n",
    "\n",
    "Given a non-empty string like \"Code\" return a string like \"CCoCodCode\".\n",
    "\n",
    "\n",
    "string_splosion('Code') → 'CCoCodCode'\n",
    "\n",
    "string_splosion('abc') → 'aababc'\n",
    "\n",
    "string_splosion('ab') → 'aab'"
   ]
  },
  {
   "cell_type": "code",
   "execution_count": 41,
   "metadata": {},
   "outputs": [],
   "source": [
    "def string_splosion(word):\n",
    "    \n",
    "    result = ''\n",
    "    \n",
    "    for i in range(0,len(word)+1):\n",
    "        \n",
    "        result = result + word[:i]\n",
    "    \n",
    "    return result"
   ]
  },
  {
   "cell_type": "code",
   "execution_count": null,
   "metadata": {},
   "outputs": [],
   "source": [
    "#using enumerate functio n:\n",
    "\n",
    "def string_splosion(str):\n",
    "    new_str=\"\"\n",
    "    for i,l in enumerate(str):\n",
    "    #in the enumerate function the i is the index for the letter l in the range, and this is iterated throughout the string\n",
    "        new_str+=str[:i+1] \n",
    "    return new_str\n",
    "\n",
    "print(string_splosion('code'))\n",
    "\n",
    "#https://stackoverflow.com/a/28072982/11945317  -- good answer by aaron paul"
   ]
  },
  {
   "cell_type": "code",
   "execution_count": 42,
   "metadata": {},
   "outputs": [
    {
     "name": "stdout",
     "output_type": "stream",
     "text": [
      "\n",
      "C\n",
      "CCo\n",
      "CCoCod\n",
      "CCoCodCode\n"
     ]
    }
   ],
   "source": [
    "string_splosion('Code')"
   ]
  },
  {
   "cell_type": "markdown",
   "metadata": {},
   "source": [
    "## Warmup-2 > last2\n",
    "\n",
    "Given a string, return the count of the number of times that a substring length 2 appears in the string and also as the last 2 chars of the string, so \"hixxxhi\" yields 1 (we won't count the end substring).\n",
    "\n",
    "last2('hixxhi') → 1\n",
    "\n",
    "last2('xaxxaxaxx') → 1\n",
    "\n",
    "last2('axxxaaxx') → 2"
   ]
  },
  {
   "cell_type": "code",
   "execution_count": 4,
   "metadata": {},
   "outputs": [],
   "source": [
    "#** will come back"
   ]
  },
  {
   "cell_type": "markdown",
   "metadata": {},
   "source": [
    "### Warmup-2 > array_count9\n",
    "\n",
    "Given an array of ints, return the number of 9's in the array.\n",
    "\n",
    "array_count9([1, 2, 9]) → 1\n",
    "\n",
    "array_count9([1, 9, 9]) → 2\n",
    "\n",
    "array_count9([1, 9, 9, 3, 9]) → 3"
   ]
  },
  {
   "cell_type": "code",
   "execution_count": 7,
   "metadata": {},
   "outputs": [
    {
     "name": "stdout",
     "output_type": "stream",
     "text": [
      "3\n"
     ]
    }
   ],
   "source": [
    "def array_count9(mylist):\n",
    "    count9=0 #a counter for no of nines count\n",
    "    for i in range(len(mylist)): #iterating through every element of the list,until the end of the list\n",
    "        if mylist[i] == 9: #checking to see of the number at that index is 9\n",
    "            #print (mylist[i]) \n",
    "            count9 = count9 + 1 #adding 1 value to the counter\n",
    "            #print(count9)\n",
    "    return count9\n",
    "\n",
    "print (array_count9([1, 9, 9, 3, 9]))"
   ]
  },
  {
   "cell_type": "markdown",
   "metadata": {},
   "source": [
    "### Warmup-2 > array_front9\n",
    "\n",
    "Given an array of ints, return True if one of the first 4 elements in the array is a 9. The array length may be less than 4.\n",
    "\n",
    "array_front9([1, 2, 9, 3, 4]) → True\n",
    "\n",
    "array_front9([1, 2, 3, 4, 9]) → False\n",
    "\n",
    "array_front9([1, 2, 3, 4, 5]) → False"
   ]
  },
  {
   "cell_type": "code",
   "execution_count": 8,
   "metadata": {},
   "outputs": [
    {
     "name": "stdout",
     "output_type": "stream",
     "text": [
      "True\n"
     ]
    }
   ],
   "source": [
    "def array_front9(mylist):\n",
    "    for i in range(len(mylist)):\n",
    "        if (i<=4) and (mylist[i]==9):\n",
    "            return True\n",
    "            \n",
    "print(array_front9([1, 2, 9, 3, 4]))"
   ]
  },
  {
   "cell_type": "markdown",
   "metadata": {},
   "source": [
    "### Warmup-2 > array123\n",
    "\n",
    "Given an array of ints, return True if the sequence of numbers 1, 2, 3 appears in the array somewhere.\n",
    "\n",
    "array123([1, 1, 2, 3, 1]) → True\n",
    "\n",
    "array123([1, 1, 2, 4, 1]) → False\n",
    "\n",
    "array123([1, 1, 2, 1, 2, 3]) → True"
   ]
  },
  {
   "cell_type": "code",
   "execution_count": 9,
   "metadata": {},
   "outputs": [
    {
     "name": "stdout",
     "output_type": "stream",
     "text": [
      "False\n"
     ]
    }
   ],
   "source": [
    "def array123(nums):\n",
    "    # Note: iterate with length-2, so can use i+1 and i+2 in the loop\n",
    "    for i in range(len(nums)-2):\n",
    "        if nums[i]==1 and nums[i+1]==2 and nums[i+2]==3:\n",
    "            return True\n",
    "    return False\n",
    "\n",
    "        \n",
    "          \n",
    "print(array123([1, 1, 2, 4, 1]))"
   ]
  },
  {
   "cell_type": "markdown",
   "metadata": {},
   "source": [
    "### Warmup-2 > string_match\n",
    "\n",
    "Given 2 strings, a and b, return the number of the positions where they contain the same length 2 substring. So \"xxcaazz\" and \"xxbaaz\" yields 3, since the \"xx\", \"aa\", and \"az\" substrings appear in the same place in both strings.\n",
    "\n",
    "string_match('xxcaazz', 'xxbaaz') → 3\n",
    "\n",
    "string_match('abc', 'abc') → 2\n",
    "\n",
    "string_match('abc', 'axc') → 0"
   ]
  },
  {
   "cell_type": "code",
   "execution_count": 11,
   "metadata": {},
   "outputs": [],
   "source": [
    "##will come back to this"
   ]
  },
  {
   "cell_type": "markdown",
   "metadata": {},
   "source": [
    "### String-1 > make_abba \n",
    "\n",
    "Given two strings, a and b, return the result of putting them together in the order abba, e.g. \"Hi\" and \"Bye\" returns \"HiByeByeHi\".\n",
    "\n",
    "\n",
    "make_abba('Hi', 'Bye') → 'HiByeByeHi'\n",
    "\n",
    "make_abba('Yo', 'Alice') → 'YoAliceAliceYo'\n",
    "\n",
    "make_abba('What', 'Up') → 'WhatUpUpWhat'"
   ]
  },
  {
   "cell_type": "code",
   "execution_count": 16,
   "metadata": {},
   "outputs": [
    {
     "name": "stdout",
     "output_type": "stream",
     "text": [
      "HiByeByeHi\n"
     ]
    }
   ],
   "source": [
    "def make_abba(a,b):\n",
    "    return a + b + b + a\n",
    "\n",
    "print(make_abba('Hi', 'Bye'))"
   ]
  },
  {
   "cell_type": "markdown",
   "metadata": {},
   "source": [
    "### String-1 > make_tags \n",
    "\n",
    "The web is built with HTML strings like \"<i>Yay</i>\" which draws Yay as italic text. In this example, the \"i\" tag makes <i> and </i> which surround the word \"Yay\". Given tag and word strings, create the HTML string with tags around the word, e.g. \"<i>Yay</i>\".\n",
    "\n",
    "\n",
    "make_tags('i', 'Yay') → '<i>Yay</i>'\n",
    "\n",
    "make_tags('i', 'Hello') → '<i>Hello</i>'\n",
    "\n",
    "make_tags('cite', 'Yay') → '<cite>Yay</cite>'"
   ]
  },
  {
   "cell_type": "code",
   "execution_count": 18,
   "metadata": {},
   "outputs": [
    {
     "name": "stdout",
     "output_type": "stream",
     "text": [
      "<i>Yay</i>\n"
     ]
    }
   ],
   "source": [
    "def make_tags(tag,word):\n",
    "    return '<'+tag+'>'+word+'<'+'/'+tag+'>'\n",
    "\n",
    "print(make_tags('i', 'Yay'))"
   ]
  },
  {
   "cell_type": "markdown",
   "metadata": {},
   "source": [
    "### String-1 > make_out_word\n",
    "\n",
    "Given an \"out\" string length 4, such as \"<<>>\", and a word, return a new string where the word is in the middle of the out string, e.g. \"<>\".\n",
    "\n",
    "make_out_word('<<>>', 'Yay') → '<>'\n",
    "\n",
    "make_out_word('<<>>', 'WooHoo') → '<>'\n",
    "\n",
    "make_out_word('[[]]', 'word') → '[[word]]'"
   ]
  },
  {
   "cell_type": "code",
   "execution_count": 20,
   "metadata": {},
   "outputs": [
    {
     "name": "stdout",
     "output_type": "stream",
     "text": [
      "<<WooHoo>>\n"
     ]
    }
   ],
   "source": [
    "def make_out_word(out, word):\n",
    "    return out[:2]+word+out[2:] #given that out is only string of 4 lenght so it\n",
    "  #can be split into charters from index 0 to index 2, followed by\n",
    "  #word and then character at index 2 to index 4\n",
    "\n",
    "print(make_out_word('<<>>', 'WooHoo'))"
   ]
  },
  {
   "cell_type": "markdown",
   "metadata": {},
   "source": [
    "### String-1 > extra_end\n",
    "\n",
    "Given a string, return a new string made of 3 copies of the last 2 chars of the original string. The string length will be at least 2.\n",
    "\n",
    "extra_end('Hello') → 'lololo'\n",
    "\n",
    "extra_end('ab') → 'ababab'\n",
    "\n",
    "extra_end('Hi') → 'HiHiHi'"
   ]
  },
  {
   "cell_type": "code",
   "execution_count": 23,
   "metadata": {},
   "outputs": [
    {
     "name": "stdout",
     "output_type": "stream",
     "text": [
      "lololo\n"
     ]
    }
   ],
   "source": [
    "def extra_end(str):\n",
    "    return 3*str[len(str)-2:]\n",
    "    #since we need the last two characters we \n",
    "    #take the length of the index-2 till the end of the string\n",
    "\n",
    "print(extra_end('Hello'))"
   ]
  },
  {
   "cell_type": "markdown",
   "metadata": {},
   "source": [
    "### String-1 > first_two\n",
    "\n",
    "Given a string, return the string made of its first two chars, so the String \"Hello\" yields \"He\". If the string is shorter than length 2, return whatever there is, so \"X\" yields \"X\", and the empty string \"\" yields the empty string \"\".\n",
    "\n",
    "first_two('Hello') → 'He'\n",
    "\n",
    "first_two('abcdefg') → 'ab'\n",
    "\n",
    "first_two('ab') → 'ab'"
   ]
  },
  {
   "cell_type": "code",
   "execution_count": 25,
   "metadata": {},
   "outputs": [
    {
     "name": "stdout",
     "output_type": "stream",
     "text": [
      "He\n"
     ]
    }
   ],
   "source": [
    "def first_two(str):\n",
    "    if len(str)<2: #check if str is less than 2 chars, the return str\n",
    "        return str\n",
    "    else: #else return 2 chars of str using slicing \n",
    "        return str[0:2]\n",
    "    \n",
    "    \n",
    "print (first_two('Hello'))"
   ]
  },
  {
   "cell_type": "markdown",
   "metadata": {},
   "source": [
    "### String-1 > first_half \n",
    "\n",
    "Given a string of even length, return the first half. So the string \"WooHoo\" yields \"Woo\".\n",
    "\n",
    "first_half('WooHoo') → 'Woo'\n",
    "\n",
    "first_half('HelloThere') → 'Hello'\n",
    "\n",
    "first_half('abcdef') → 'abc'"
   ]
  },
  {
   "cell_type": "code",
   "execution_count": 1,
   "metadata": {},
   "outputs": [
    {
     "name": "stdout",
     "output_type": "stream",
     "text": [
      "Woo\n"
     ]
    }
   ],
   "source": [
    "def first_half(str):\n",
    "      if len(str)%2 == 0: #check if lenght of string is even\n",
    "        return str[:(int(len(str)/2))] #if even then return string letter from\n",
    "        \n",
    "        #index 0 to index half of length of string\n",
    "        #now we are using int because dividing /2 is giving a flaoting point\n",
    "        #this needs to be converted to int as indexes can only be int type values\n",
    "\n",
    "print(first_half('WooHoo'))"
   ]
  },
  {
   "cell_type": "markdown",
   "metadata": {},
   "source": [
    "### String-1 > without_end\n",
    "\n",
    "Given a string, return a version without the first and last char, so \"Hello\" yields \"ell\". The string length will be at least 2.\n",
    "\n",
    "without_end('Hello') → 'ell' \n",
    "\n",
    "without_end('java') → 'av' \n",
    "\n",
    "without_end('coding') → 'odin'"
   ]
  },
  {
   "cell_type": "code",
   "execution_count": 3,
   "metadata": {},
   "outputs": [
    {
     "name": "stdout",
     "output_type": "stream",
     "text": [
      "ell\n"
     ]
    }
   ],
   "source": [
    "def without_end(str):\n",
    "    return str[1:(len(str)-1)] #return the slicing leaving the character at first index\n",
    "    \n",
    "    #and the last index so last index-1, as it will not include the character at the last\n",
    "    #index this way\n",
    "\n",
    "print(without_end('Hello'))"
   ]
  },
  {
   "cell_type": "markdown",
   "metadata": {},
   "source": [
    "### String-1 > combo_string\n",
    "\n",
    "Given 2 strings, a and b, return a string of the form short+long+short, with the shorter string on the outside and the longer string on the inside. The strings will not be the same length, but they may be empty (length 0).\n",
    "\n",
    "combo_string('Hello', 'hi') → 'hiHellohi'\n",
    "\n",
    "combo_string('hi', 'Hello') → 'hiHellohi'\n",
    "\n",
    "combo_string('aaa', 'b') → 'baaab'"
   ]
  },
  {
   "cell_type": "code",
   "execution_count": 5,
   "metadata": {},
   "outputs": [
    {
     "name": "stdout",
     "output_type": "stream",
     "text": [
      "aaa\n"
     ]
    }
   ],
   "source": [
    "##Needs more work!\n",
    "\n",
    "def combo_string(a, b):\n",
    "    if (a =='') or (b==''):\n",
    "        return a+b\n",
    "    elif a>b:\n",
    "        return a+b+a\n",
    "    else:\n",
    "        return b+a+b\n",
    "\n",
    "print(combo_string('aaa', ''))"
   ]
  },
  {
   "cell_type": "markdown",
   "metadata": {},
   "source": [
    "### String-1 > non_start\n",
    "\n",
    "Given 2 strings, return their concatenation, except omit the first char of each. The strings will be at least length 1.\n",
    "\n",
    "non_start('Hello', 'There') → 'ellohere'\n",
    "\n",
    "non_start('java', 'code') → 'avaode'\n",
    "\n",
    "non_start('shotl', 'java') → 'hotlava'"
   ]
  },
  {
   "cell_type": "code",
   "execution_count": 7,
   "metadata": {},
   "outputs": [
    {
     "name": "stdout",
     "output_type": "stream",
     "text": [
      "hotlava\n"
     ]
    }
   ],
   "source": [
    "def non_start(a, b):\n",
    "    return a[1:len(a)]+b[1:len(b)] \n",
    "\n",
    "print(non_start('shotl', 'java'))"
   ]
  },
  {
   "cell_type": "markdown",
   "metadata": {},
   "source": [
    "String-1 > left2\n",
    "\n",
    "Given a string, return a \"rotated left 2\" version where the first 2 chars are moved to the end. The string length will be at least 2.\n",
    "\n",
    "left2('Hello') → 'lloHe'\n",
    "\n",
    "left2('java') → 'vaja'\n",
    "\n",
    "left2('Hi') → 'Hi'"
   ]
  },
  {
   "cell_type": "code",
   "execution_count": 9,
   "metadata": {},
   "outputs": [
    {
     "name": "stdout",
     "output_type": "stream",
     "text": [
      "lloHe\n"
     ]
    }
   ],
   "source": [
    "def left2(str):\n",
    "    last_chars = str[2:] #slicing out the last chars of str\n",
    "    first_chars = str[0:2]#slicing out the first two chars of str\n",
    "    return last_chars+first_chars # concatenating them together\n",
    "\n",
    "print(left2('Hello'))"
   ]
  },
  {
   "cell_type": "markdown",
   "metadata": {},
   "source": [
    "### List-1 > first_last6\n",
    "\n",
    "Given an array of ints, return True if 6 appears as either the first or last element in the array. The array will be length 1 or more.\n",
    "\n",
    "first_last6([1, 2, 6]) → True\n",
    "\n",
    "first_last6([6, 1, 2, 3]) → True\n",
    "\n",
    "first_last6([13, 6, 1, 2, 3]) → False"
   ]
  },
  {
   "cell_type": "code",
   "execution_count": 12,
   "metadata": {},
   "outputs": [],
   "source": [
    "def first_last6(nums):\n",
    "    return (nums[0]==6) or (nums[-1]==6)\n",
    "\n",
    "#so above code can be simplified as\n",
    "#first char of list nums[0] to be checked for equality to 6\n",
    "#first char of list nums[-1] to be checked for equality to 6\n",
    "#return True if either is true\n",
    "\n",
    "#this can also be written as:\n",
    "#def first_last6(nums):\n",
    "#  first_char = nums[0]\n",
    "#  last_char = nums[-1]\n",
    "#  if (first_char == 6) or (last_char == 6):\n",
    "#    return True\n",
    "#  else:\n",
    "#    return False"
   ]
  },
  {
   "cell_type": "markdown",
   "metadata": {},
   "source": [
    "### List-1 > same_first_last \n",
    "\n",
    "Given an array of ints, return True if the array is length 1 or more, and the first element and the last element are equal.\n",
    "\n",
    "\n",
    "same_first_last([1, 2, 3]) → False\n",
    "\n",
    "same_first_last([1, 2, 3, 1]) → True\n",
    "\n",
    "same_first_last([1, 2, 1]) → True"
   ]
  },
  {
   "cell_type": "code",
   "execution_count": 13,
   "metadata": {},
   "outputs": [],
   "source": [
    "def same_first_last(nums):\n",
    "    return len(nums)>=1 and (nums[0] == nums[-1])\n",
    "  \n",
    "#above code can be simplified as\n",
    "#first char of list nums[0] \n",
    "#last char of list nums[-1] \n",
    "#return True if they are equal and array's lenght is more than or equal to 1\n",
    "\n",
    "#this can also be written as:\n",
    "#def first_last6(nums):\n",
    "#  first_char = nums[0]\n",
    "#  last_char = nums[-1]\n",
    "#  if len(nums)>=1 and (nums[0] == nums[-1]):\n",
    "#    return True\n",
    "#  else:\n",
    "#    return False"
   ]
  },
  {
   "cell_type": "markdown",
   "metadata": {},
   "source": [
    "### List-1 > make_pi\n",
    "\n",
    "Return an int array length 3 containing the first 3 digits of pi, {3, 1, 4}.\n",
    "\n",
    "make_pi() → [3, 1, 4]"
   ]
  },
  {
   "cell_type": "code",
   "execution_count": 15,
   "metadata": {},
   "outputs": [],
   "source": [
    "def make_pi():\n",
    "    return [3,1,4]"
   ]
  },
  {
   "cell_type": "code",
   "execution_count": 16,
   "metadata": {},
   "outputs": [
    {
     "data": {
      "text/plain": [
       "[3, 1, 4]"
      ]
     },
     "execution_count": 16,
     "metadata": {},
     "output_type": "execute_result"
    }
   ],
   "source": [
    "make_pi()"
   ]
  },
  {
   "cell_type": "code",
   "execution_count": null,
   "metadata": {},
   "outputs": [],
   "source": [
    ""
   ]
  }
 ],
 "metadata": {
  "kernelspec": {
   "display_name": "Python 3",
   "language": "python",
   "name": "python3"
  },
  "language_info": {
   "codemirror_mode": {
    "name": "ipython",
    "version": 3.0
   },
   "file_extension": ".py",
   "mimetype": "text/x-python",
   "name": "python",
   "nbconvert_exporter": "python",
   "pygments_lexer": "ipython3",
   "version": "3.7.0"
  }
 },
 "nbformat": 4,
 "nbformat_minor": 0
}